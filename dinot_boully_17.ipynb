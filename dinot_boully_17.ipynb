{
 "cells": [
  {
   "cell_type": "markdown",
   "id": "19cad0fa",
   "metadata": {},
   "source": [
    "$\\newcommand{\\PP}{\\mathbb{P}}$\n",
    "$\\newcommand{\\eps}{\\varepsilon}$\n",
    "$\\newcommand{\\Diag}{\\mathrm{Diag}}$\n",
    "$\\newcommand{\\R}{\\mathbb{R}}$\n",
    "$\\newcommand{\\ens}[3][\\vert]{\n",
    "    \\left\\{#2 \\;\\, #1 \\; #3\\right\\}\n",
    "}$\n",
    "$\\DeclareMathOperator{\\Card}{\\mathrm{Card}}$\n",
    "$\\newcommand{\\equi}[1]{\\underset{#1}{\\sim}}$"
   ]
  },
  {
   "cell_type": "markdown",
   "id": "f41ce97d",
   "metadata": {},
   "source": [
    "# Estimation de la taille d’un graphe par marches aléatoires"
   ]
  },
  {
   "cell_type": "markdown",
   "id": "bf0612a4",
   "metadata": {},
   "source": [
    "## 1. Partie théorique"
   ]
  },
  {
   "cell_type": "markdown",
   "id": "778d9762",
   "metadata": {},
   "source": [
    "**T1.** On note $\\delta$ le symbole de Krönecker, $(p_{i, j})_{i, j \\in V}$ les coefficients de la matrice $P$ et $U = (\\delta_{i,i_0})_{i \\in V}$ le vecteur de probabilité à l'instant initial.  \n",
    "Soient $s \\in \\{0, \\ldots, \\tau - 1\\}$ et $i \\in V$. \n",
    "On a :\n",
    "\n",
    "\\begin{align*}\n",
    "    \\PP(X_{s + 1}^t = i)  \n",
    "        &= \\sum_{j \\in V} \\PP(X_{s+1}^{t} = i, X_s^t = j) \\\\\n",
    "        &= \\sum_{j \\in V, \\{i, j\\} \\in E}\\PP(X_{s+1}^t = i | X_s^t = j) \\PP(X_s^t = j) \\\\\n",
    "        &= \\sum_{j \\in V, \\{i, j\\} \\in E}\\frac{1}{d}\\PP(X_s^t = j) \\\\ \n",
    "        &= \\sum_{j \\in V} p_{ij}\\PP (X_{s}^{t} = j).\n",
    "\\end{align*}\n",
    "\n",
    "Ainsi $(\\PP(X_{s + 1}^t = i))_{i \\in V} = P \\times (\\PP(X_s^t = i))_{i \\in V}$. Une récurrence immédiate montre alors que\n",
    "\n",
    "\\begin{equation}\n",
    "    \\pi = P^\\tau U\n",
    "\\end{equation}"
   ]
  },
  {
   "cell_type": "markdown",
   "id": "1b02ba57",
   "metadata": {},
   "source": [
    "**T2.** Modifions légèrement la notation de l'énoncé, on note $\\pi_\\tau$ la matrice $\\pi$ de l'énoncé. Le théorème spectral assure l'existence d'une matrice orthogonale $O$ telle que\n",
    "\n",
    "\\begin{equation*}\n",
    "    P = O^\\top \\,\\Diag(1,\\lambda_2, \\ldots, \\lambda_N)\\, O.\n",
    "\\end{equation*}\n",
    " \n",
    "Affranchissons nous de la norme $2$ qui est équivalente à la convergence terme à terme. Nous avons :\n",
    "\n",
    "\\begin{equation*}\n",
    "        P^{\\tau} = O^\\top \\, \\Diag(1, \\lambda_2^\\tau, \\ldots, \\lambda_N^\\tau)\\, O \n",
    "        \\to \n",
    "        O^\\top \\,\\Diag(1,0, \\ldots, 0)\\, O := P^{\\infty}\n",
    "\\end{equation*}\n",
    "\n",
    "lorsque $\\tau \\to +\\infty$.\n",
    "\n",
    "La question précédente nous donne :\n",
    "\n",
    "$$\n",
    "    P^{\\tau + 1}U = \\pi_{\\tau + 1} = P\\pi_\\tau = P \\times P^\\tau U\n",
    "$$\n",
    "\n",
    "En faisant tendre $\\tau$ vers l'infini dans l'égalité précédente, on obtiens $P\\times P^\\infty U = P^\\infty U$\n",
    "Ainsi $P^\\infty U$ est un vecteur propre de $P$ associé à la valeur $1$. Or on remarque que $(1)_{i\\in V}$ est aussi un vecteur propre pour $P$ associé à la valeur propre $1$ dont le sous espace propre est de dimension $1$. \n",
    "\n",
    "Il existe donc $\\lambda \\in \\R$ tel que $P^\\infty U = \\lambda \\, (1)_{i\\in V}$. Vu que la somme des composants de $P^\\infty U$ vaut $1$, on obtient $\\lambda = \\frac{1}{N}$ ce qui conclut."
   ]
  },
  {
   "cell_type": "markdown",
   "id": "dccb1749",
   "metadata": {},
   "source": [
    "**T3.** Notons\n",
    "$$\n",
    "    \\mathcal{A}_m \n",
    "    = \\ens{(y_1,\\ldots,y_m) \\in V^{m}}{\\Card \\{y_1, \\ldots, y_{m-1}\\} \n",
    "    =  \\Card \\{y_1, \\ldots, y_{m}\\} = m - (\\ell - 1)}\n",
    "$$\n",
    "\n",
    "de sorte que\n",
    "\n",
    "$$\n",
    "(C_{\\ell - 1} = m) = \n",
    "\\bigsqcup_{\\mathbf{y} \\in \\mathcal{A}_m} \\left(\\bigcap_{1 \\leq t \\leq m}(Y_t = y_t)\\right)\n",
    "$$ \n",
    "\n",
    "Notons aussi $\\mathcal{B}_{n}(K)$ l'ensemble des $n$-uplets injectifs à valeurs dans $V \\setminus K$. On a :\n",
    "\n",
    "\\begin{align*}\n",
    "    \\PP((C_\\ell - C_{\\ell - 1} > n) \\cap (C_{\\ell - 1} = m)) \n",
    "        & = \\sum_{(y_1, \\ldots, y_n) \\in \\mathcal{A}_m} \\PP\\left((C_\\ell - C_{\\ell - 1} > n) \\cap \\bigcap_{1 \\leq t \\leq m}(Y_t = y_t)\\right)\\\\\n",
    "        & = \\sum_{\\substack{\n",
    "            (y_1, \\ldots, y_m) \\in \\mathcal{A}_m\\\\\n",
    "            (y_{m+1}, \\ldots, y_{m+n}) \\in \\mathcal{B}_n(\\{y_1, \\ldots, y_m\\})\n",
    "            }}\n",
    "            \\PP\\left(\\bigcap_{1 \\leq t \\leq m + n}(Y_t = y_t)\\right)\\\\\n",
    "        & = \\sum_{\\substack{\n",
    "            (y_1, \\ldots, y_m) \\in \\mathcal{A}_m\\\\\n",
    "            (y_{m+1}, \\ldots, y_{m+n}) \\in \\mathcal{B}_n(\\{y_1, \\ldots, y_m\\})\n",
    "            }}\n",
    "            \\prod_{1 \\leq t \\leq m+n}\\PP(Y_t = y_t)\\\\\n",
    "        & = \\sum_{\\substack{\n",
    "            (y_1, \\ldots, y_m) \\in \\mathcal{A}_m\\\\\n",
    "            (y_{m+1}, \\ldots, y_{m+n}) \\in \\mathcal{B}_n(\\{y_1, \\ldots, y_m\\})\n",
    "            }}\n",
    "            \\frac{1}{N^{m+n}}\\\\\n",
    "        & =  \\frac{1}{N^{m+n}} \\sum_{(y_1, \\ldots, y_m) \\in \\mathcal{A}_m} \\Card \\mathcal{B}_n(\\{y_1, \\ldots, y_m\\})\\\\\n",
    "        & = \\frac{1}{N^{m+n}} \\sum_{(y_1, \\ldots, y_m) \\in \\mathcal{A}_m} n! \\binom{N - (m - (\\ell - 1))}{n}\\\\\n",
    "        & = \\frac{(N - m + \\ell - 1)(N - m + \\ell - 2) \\cdots (N - m + \\ell - n)}{N^n} \\frac{\\Card \\mathcal{A}_m}{N^m}\\\\\n",
    "        & = \\frac{(N - m + \\ell - 1)(N - m + \\ell - 2) \\cdots (N - m + \\ell - n)}{N^n} \\PP(C_{\\ell - 1} = m).\n",
    "\\end{align*}\n",
    "\n",
    "On trouve comme attendu :\n",
    "\n",
    "\\begin{equation}\n",
    "    \\PP((C_\\ell - C_{\\ell - 1} > n) \\mid (C_{\\ell - 1} = m)) = \\frac{(N - m + \\ell - 1)(N - m + \\ell - 2) \\cdots (N - m + \\ell - n)}{N^n}.\n",
    "\\end{equation}\n",
    " \n",
    "On aurait pu démontrer ce fait de manière moins formelle, les idées essentielles étant que\n",
    "* les $Y_t$ sont i.i.d. et suivent une loi uniforme sur $V$;\n",
    "* le cardinal de $\\mathcal{B}_{n}(K)$ ne dépend que de $n$ et du cardinal de $K$, mais pas des valeurs de ses éléments.\n"
   ]
  },
  {
   "cell_type": "markdown",
   "id": "b8d12fd7",
   "metadata": {},
   "source": [
    "**T4.** Nous allons légèrement améliorer le résultat de la première limite pour pouvoir en déduire la seconde. Soient $a, b$ des réels strictement positifs et $(a_N)_{N \\geq 1}, (b_N)_{N \\geq 1}$ des suites d'entiers telles que\n",
    "\n",
    "$$a_N \\equi{+\\infty} aN^{1/2} \\quad \\text{et} \\quad b_N \\equi{+\\infty} bN^{1/2}.$$\n",
    "\n",
    "D'après la question précédente, on a :\n",
    "\n",
    "\\begin{align*}\n",
    "    \\PP((C_\\ell - C_{\\ell - 1} > b_N) \\mid (C_{\\ell - 1} = a_{N})) \n",
    "        &= \\frac{(N - a_{N} + \\ell - 1)(N - a_{N} + \\ell - 2) \\cdots (N - a_{N} + \\ell - b_{N})}{N^{b_{N}}}\\\\\n",
    "        &= \\frac{(N - (a_{N} - (\\ell - 1)))!}{N^{b_{N}} (N - b_{N} - (a_{N} - (\\ell - 1))) !}\\\\\n",
    "\\end{align*}\n",
    "\n",
    "Posons, pour $N \\geq 1$\n",
    "\n",
    "$$ u_N = N - (a_{N} - (\\ell - 1))$$\n",
    "$$ v_N = N - b_{N} - (a_{N} - (\\ell - 1)) $$\n",
    "\n",
    "D'après la formule de Stirling, on a :\n",
    "\n",
    "\\begin{align*}\n",
    "        \\PP((C_\\ell - C_{\\ell - 1} > b_N) \\mid (C_{\\ell - 1} = a_{N})) \n",
    "            &\\equi{+\\infty} \\frac{\\sqrt{2\\pi u_n}}{\\sqrt{2\\pi v_n}} \\frac{\\exp \\left[u_n \\log u_n - u_n\\right]}{\\exp\\left[b_{N} \\log N + v_n \\log v_n - v_n\\right]}\\\\\n",
    "            &\\sim \\exp\\left[u_n \\log u_n + v_n - u_n - b_{N} \\log N - v_n \\log v_n\\right].\n",
    "\\end{align*} \n",
    "\n",
    "On cherche un développement asymptotique en $o(1)$ de l'argument de l'exponentielle. On procède par étapes\n",
    "\n",
    "\\begin{align*}\n",
    "    \\log u_n \n",
    "        &= \\log N - \\frac{a_{N} - (\\ell - 1)}{N} - \\frac{(a_{N} - (\\ell - 1))^{2}}{2N^{2}} + o(1/N)\\\\\n",
    "        &= \\log N - \\frac{a_{N} - (\\ell - 1)}{N} - \\frac{(aN^{1/2} + o(N^{1/2}))^{2}}{2N^{2}} + o(1/N)\\\\\n",
    "        &= \\log N - \\frac{a_{N} - (\\ell - 1)}{N} - \\frac{a^{2}}{2N} + o(1/N)\\\\\n",
    "\\end{align*}\n",
    "    \n",
    "De même,\n",
    "\n",
    "\\begin{align*}\n",
    "    \\log v_n \n",
    "        &= \\log N - \\frac{b_{N} + a_{N} - (\\ell - 1)}{N} - \\frac{(b_{N} + a_{N} - (\\ell - 1))^{2}}{2N^{2}} + o(1/N)\\\\\n",
    "        &= \\log N - \\frac{b_{N} + a_{N} - (\\ell - 1)}{N} - \\frac{(a+b)^{2}}{2N} + o(1/N).\\\\\n",
    "\\end{align*}\n",
    "\n",
    "Puis\n",
    "\n",
    "$$ \\log u_n - \\log v_n = \\frac{b_{N}}{N} + \\frac{b(2a+b)}{2N} + o(1/N) $$\n",
    "\n",
    "D'où, en utilisant le fait que $a_{N} = aN^{1/2} + o(N^{1/2})$ et $b_{N} = bN^{1/2} + o(N^{1/2})$\n",
    "\n",
    "\\begin{align*}\n",
    "    v_n (\\log u_n - \\log v_n) \n",
    "        &= b_{N} + \\frac{b(2a+b)}{2} - \\frac{b_{N} (b_{N} + a_{N})}{N} + o(1)\\nonumber\\\\\n",
    "        &= b_{N} + \\frac{b(2a+b)}{2} - b(a+b) + o(1)\\nonumber\\\\\n",
    "        &= b_{N} - \\frac{b^{2}}{2} + o(1).\n",
    "\\end{align*}\n",
    "\n",
    "De plus, pour la même raison,\n",
    "\n",
    "$$b_{N} \\log u_n = b_{N} \\log N - ab + o(1)$$\n",
    "\n",
    "Enfin, en utilisant les développements asymptotiques précédents\n",
    "\n",
    "\\begin{align*}\n",
    "    u_n \\log u_n + v_n - u_n - b_{N} \\log N - v_n \\log v_n \n",
    "        &= v_n (\\log u_n - \\log v_n) + b_{N} \\log u_n - b_{N} - b_{N} \\log N\\\\\n",
    "        &= b_{N} - \\frac{b^{2}}{2} + b_{N} \\log N - ab  - b_{N} - b_{N} \\log N + o(1)\\\\\n",
    "        &= - ab - \\frac{b^{2}}{2} + o(1).\n",
    "\\end{align*}\n",
    "\n",
    "Cela montre que\n",
    "\n",
    "\\begin{equation}\n",
    "        \\PP((C_\\ell - C_{\\ell - 1} > b_N) \\mid (C_{\\ell - 1} = a_{N})) \\xrightarrow[N \\to +\\infty]{} e^{-ab-b^{2}/2}.\n",
    "\\end{equation}\n",
    "\n",
    "Étudions maintenant la suite \n",
    "\n",
    "$$\n",
    "\\PP \\left(\\left(\\frac{C_{\\ell}^{2} - C_{\\ell - 1}^{2}}{2N} > y\\right) \\middle| \\left(\\frac{C_{\\ell - 1}^{2}}{2N} = \\frac{\\lfloor(2Nx)^{1/2}\\rfloor^{2}}{2N}\\right)\\right)\n",
    "$$\n",
    "\n",
    "où $x, y > 0$. On écrit pour cela\n",
    "\\begin{align*}\n",
    "    \\PP\\left(\\left(\\frac{C_{\\ell}^{2} - C_{\\ell - 1}^{2}}{2N} > y\\right) \\middle| \\left(\\frac{C_{\\ell - 1}^{2}}{2N} = \\frac{\\lfloor(2Nx)^{1/2}\\rfloor^{2}}{2N}\\right)\\right)\n",
    "        &= \\PP\\left(C_{\\ell} > \\left(\\lfloor(2Nx)^{1/2}\\rfloor^{2} + (2Ny)\\right)^{1/2} \\middle|C_{\\ell - 1} = \\lfloor(2Nx)\\rfloor^{1/2}\\right)\\\\\n",
    "        &= \\PP\\left(C_{\\ell} - C_{\\ell - 1} > \\left(\\lfloor(2Nx)^{1/2}\\rfloor^{2} + (2Ny)\\right)^{1/2} - \\lfloor(2Nx)^{1/2}\\rfloor\\middle|  C_{\\ell - 1} = \\lfloor(2Nx)^{1/2}\\rfloor\\right).\\\\\n",
    "\\end{align*}\n",
    "\n",
    "Or,\n",
    "$$\\lfloor(2Nx)^{1/2}\\rfloor \\equi{+\\infty} (2Nx)^{1/2}$$\n",
    "et\n",
    "\\begin{align*}\n",
    "    \\left(\\lfloor(2Nx)^{1/2}\\rfloor^{2} + (2Ny)\\right)^{1/2} - \\lfloor(2Nx)^{1/2}\\rfloor \n",
    "        &= \\left(2N(x+y) + o(N)\\right)^{1/2} - (2Nx)^{1/2} + o(N^{1/2})\\\\\n",
    "        &= (2N)^{1/2}\\left[(x+y)^{1/2} - x^{1/2}\\right] + o(N^{1/2}).\n",
    "\\end{align*}\n",
    "\n",
    "On peut donc appliquer notre précédent résultat avec $a = (2x)^{1/2}$ et $b = 2^{1/2}\\left[(x+y)^{1/2} - x^{1/2}\\right]$. On a \n",
    "\n",
    "$$ab + b^{2}/2 = 2\\left[x(x+y)\\right]^{1/2} - 2x + (x+y) - 2\\left[x(x+y)\\right]^{1/2} + x = y,$$\n",
    "\n",
    "ce qui donne \n",
    "\n",
    "\\begin{equation}\n",
    "        \\PP\\left(\\left(\\frac{C_{\\ell}^{2} - C_{\\ell - 1}^{2}}{2N} > y\\right) \\middle| \\left(\\frac{C_{\\ell - 1}^{2}}{2N} = \\frac{\\lfloor(2Nx)^{1/2}\\rfloor^{2}}{2N}\\right)\\right) \\xrightarrow[N \\to +\\infty]{} e^{-y}.\n",
    "\\end{equation}"
   ]
  },
  {
   "cell_type": "markdown",
   "id": "3f29636b",
   "metadata": {},
   "source": [
    "## 2. Partie Simulation"
   ]
  },
  {
   "cell_type": "markdown",
   "id": "eac4537d",
   "metadata": {},
   "source": [
    "**Préliminaires** Commençons par importer les modules dont nous auront besoin :"
   ]
  },
  {
   "cell_type": "code",
   "execution_count": 12,
   "id": "3edbb480",
   "metadata": {},
   "outputs": [],
   "source": [
    "import numpy as np\n",
    "import numpy.random as npr\n",
    "import matplotlib.pyplot as plt\n",
    "from math import sqrt"
   ]
  },
  {
   "cell_type": "markdown",
   "id": "fccf79f2",
   "metadata": {},
   "source": [
    "Définissons l'implémentation des graphes que nous allons utiliser. On remaque que l'on va nous demander d'exécuter l'algorithme pour des graphes vérifiant $\\Card E \\ll (\\Card V)^2$. Une représentation par les matrices d'adjacence n'est donc pas adaptée, en effet la quasi totalité des coefficients de la matrice seraient nuls ce qui est un coût à la fois en mémoire et en complexité.\n",
    "\n",
    "On choisit donc une représentation par liste d'adjacence :"
   ]
  },
  {
   "cell_type": "code",
   "execution_count": 18,
   "id": "9b8aad4f",
   "metadata": {},
   "outputs": [],
   "source": [
    "class graph :\n",
    "    def __init__(self, taille) :\n",
    "        \"\"\"Définition par liste d'adjacence, les sommets sont numérotés de 0 à taille - 1. \n",
    "        self.liste_andjacence[i] est une liste contenant les voisins de i\"\"\"\n",
    "        self.liste_adjacence = [[] for _ in range(taille)]\n",
    "\n",
    "    def __str__(self) :\n",
    "        \"\"\"Permet d'afficher les objets de la classe graphe avec la fonction print()\"\"\"\n",
    "        s = \"\"\n",
    "        for i, l in enumerate(self.liste_adjacence) :\n",
    "            s += \"{} : \".format(i) + str(l) + '\\n'\n",
    "        return s\n",
    "\n",
    "    def ajouter_arete(self, i, j) :\n",
    "        \"\"\"Ajoute l'arc i -> j au graphe\"\"\"\n",
    "        l = len(self.liste_adjacence)\n",
    "        assert i < l and j < l, \"au moins un des sommets n'existe pas\"\n",
    "        self.liste_adjacence[i].append(j)\n",
    "\n",
    "    def len(self) :\n",
    "        \"\"\"retourne le nombre de sommets du graphe\"\"\"\n",
    "        return len(self.liste_adjacence)\n",
    "\n",
    "    def adjacent(self, i) :\n",
    "        \"\"\"retourne la liste des sommets adjacents de i\"\"\"\n",
    "        return self.liste_adjacence[i] "
   ]
  },
  {
   "cell_type": "markdown",
   "id": "71f06ee3",
   "metadata": {},
   "source": [
    "**S1.** Voici l'implémentation de l'algorithme :"
   ]
  },
  {
   "cell_type": "code",
   "execution_count": 19,
   "id": "d6cb03e1",
   "metadata": {},
   "outputs": [],
   "source": [
    "def estimer_taille(g, tau, l, x0) :\n",
    "    \"\"\"estime la taille du graphe g en entrée par une méthode de marche aléatoire\"\"\"\n",
    "    t = 0 #numéro de l'étape\n",
    "    c = 0 #nombre de collision\n",
    "    deja_vu = [False] * g.len() #représente l'ensemble {Y1, ..., Yt}\n",
    "\n",
    "    while c < l :\n",
    "        t += 1\n",
    "        y = x0\n",
    "\n",
    "        for _ in range(tau) :\n",
    "            if (npr.rand() > 0.1) : #application de la marche aléatoire paresseuse\n",
    "                y = npr.choice(g.adjacent(y))\n",
    "\n",
    "        if (deja_vu[y]) :\n",
    "            c += 1\n",
    "        else :\n",
    "            deja_vu[y] = True\n",
    "\n",
    "    return t  * t / (2 * l) "
   ]
  },
  {
   "cell_type": "markdown",
   "id": "601b47b0",
   "metadata": {},
   "source": [
    "**S2.** Voici notre façon de générer l'hypercube de taille delta, en représentant les vecteurs de $\\{0, 1\\}^\\delta$ comme l'entier dont la décomposition binaire est ce vecteur. Cela va nous permettre de générer très rapidement leurs voisins en utilisant les opérateurs bits à bits de python (de complexité O(1))."
   ]
  },
  {
   "cell_type": "code",
   "execution_count": 20,
   "id": "6e32dd76",
   "metadata": {},
   "outputs": [],
   "source": [
    "def hypercube(delta) :\n",
    "    \"\"\"génère un graphe représentant l'hypercube en dimension delta\"\"\"\n",
    "    g = graph(1 << delta) #1 << delta == 2 ** delta mais le calcul se fait en O(1)\n",
    "\n",
    "    for k in range(1 << delta) :\n",
    "        for i in range(delta) :\n",
    "            g.ajouter_arete(k, k ^ (1 << i))\n",
    "            #les sommets voisins de k sont ceux qui diffèrent d'un bit de k \n",
    "            #1 << i est représenté en binaire comme un 1 en position i et 0 ailleurs\n",
    "            #k ^ (1 << i) est représenté en binaire comme la décomposition de k \n",
    "            #en changeant le bit à la position i (^ est l'opérateur xor)\n",
    "\n",
    "    return g "
   ]
  },
  {
   "cell_type": "markdown",
   "id": "c406f553",
   "metadata": {},
   "source": [
    "À finir."
   ]
  },
  {
   "cell_type": "markdown",
   "id": "6936ba4d",
   "metadata": {},
   "source": [
    "**S3.** Voici notre façon de générer le cycle de taille delta :"
   ]
  },
  {
   "cell_type": "code",
   "execution_count": 21,
   "id": "b673cc83",
   "metadata": {},
   "outputs": [],
   "source": [
    "def cycle(n) :\n",
    "    \"\"\"génère le cycle de taille n\"\"\"\n",
    "    g = graph(n)\n",
    "\n",
    "    for k in range(n - 1) :\n",
    "        g.ajouter_arete(k, k + 1)\n",
    "        g.ajouter_arete(k + 1, k)\n",
    "    \n",
    "    g.ajouter_arete(n - 1, 0)\n",
    "    g.ajouter_arete(0, n - 1)\n",
    "    \n",
    "    return g "
   ]
  },
  {
   "cell_type": "markdown",
   "id": "f4c438e8",
   "metadata": {},
   "source": [
    "À finir"
   ]
  },
  {
   "cell_type": "code",
   "execution_count": null,
   "id": "779cc3bd",
   "metadata": {},
   "outputs": [],
   "source": []
  }
 ],
 "metadata": {
  "author": "Estimation de la taille d’un graphe par marches aléatoires",
  "kernelspec": {
   "display_name": "Python 3",
   "language": "python",
   "name": "python3"
  },
  "language_info": {
   "codemirror_mode": {
    "name": "ipython",
    "version": 3
   },
   "file_extension": ".py",
   "mimetype": "text/x-python",
   "name": "python",
   "nbconvert_exporter": "python",
   "pygments_lexer": "ipython3",
   "version": "3.9.5"
  },
  "latex_envs": {
   "LaTeX_envs_menu_present": true,
   "autoclose": false,
   "autocomplete": true,
   "bibliofile": "biblio.bib",
   "cite_by": "apalike",
   "current_citInitial": 1,
   "eqLabelWithNumbers": true,
   "eqNumInitial": 1,
   "hotkeys": {
    "equation": "Ctrl-E",
    "itemize": "Ctrl-I"
   },
   "labels_anchors": false,
   "latex_user_defs": false,
   "report_style_numbering": false,
   "user_envs_cfg": false
  },
  "varInspector": {
   "cols": {
    "lenName": 16,
    "lenType": 16,
    "lenVar": 40
   },
   "kernels_config": {
    "python": {
     "delete_cmd_postfix": "",
     "delete_cmd_prefix": "del ",
     "library": "var_list.py",
     "varRefreshCmd": "print(var_dic_list())"
    },
    "r": {
     "delete_cmd_postfix": ") ",
     "delete_cmd_prefix": "rm(",
     "library": "var_list.r",
     "varRefreshCmd": "cat(var_dic_list()) "
    }
   },
   "types_to_exclude": [
    "module",
    "function",
    "builtin_function_or_method",
    "instance",
    "_Feature"
   ],
   "window_display": false
  }
 },
 "nbformat": 4,
 "nbformat_minor": 5
}