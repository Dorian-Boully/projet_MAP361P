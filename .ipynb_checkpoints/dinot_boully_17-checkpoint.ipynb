{
 "cells": [
  {
   "cell_type": "markdown",
   "id": "f41ce97d",
   "metadata": {},
   "source": [
    "# Estimation de la taille d’un graphe par marches aléatoires"
   ]
  },
  {
   "cell_type": "markdown",
   "id": "bf0612a4",
   "metadata": {},
   "source": [
    "## 1. Partie théorique"
   ]
  },
  {
   "cell_type": "markdown",
   "id": "778d9762",
   "metadata": {},
   "source": [
    "**T1.** Soient $s \\in \\{0, \\ldots, \\tau - 1\\}$ et $i \\in V$. On a :\n",
    "\\begin{align*}\n",
    "\\mathbb{P}(X_{s+1}^{t} = i) & = \\sum_{j \\in V} \\mathbb{P}((X_{s+1}^{t} = i) \\cap (X_{s}^{t} = j))\\\\\n",
    "& = \\sum_{j \\in V}  \\frac{1}{d}\\mathbb{1}_{E}(i,j) \\mathbb{P} (X_{s}^{t} = j)\\\\\n",
    "& = \\sum_{j \\in V} P_{ij}\\mathbb{P} (X_{s}^{t} = j).\n",
    "\\end{align*}\n",
    "Ainsi $(\\mathbb{P}(X_{s+1}^{t} = i)_{i \\in V} = P (X_{s}^{t} = i)_{i \\in V}$. Une récurrence immédiate montre alors que\n",
    "\\begin{equation}\\label{eq:t1}\n",
    "\\pi = P^{\\tau}(\\delta_{i,i_0})_{i \\in V}\n",
    "\\end{equation}\n",
    "\n",
    "où $\\delta$ désigne le symbole de Krönecker."
   ]
  },
  {
   "cell_type": "markdown",
   "id": "1b02ba57",
   "metadata": {},
   "source": [
    "**T2.** Le théorème spectral assure l'existence d'une matrice orthogonale $O$ telle que\n",
    "\n",
    "\\begin{equation*}\\label{eq:diagonalisation}\n",
    "P = {}^{t}O \\,\\mathrm{Diag}(1,\\lambda_2, \\ldots, \\lambda_N)\\, O.\n",
    "\\end{equation*}\n",
    " \n",
    "Vu les hypothèses faites sur les valeurs propres de $P$, on voit que, pour une norme quelconque sur les matrices $(N,N)$ (en particulier la norme subordonnée à $\\left\\lVert \\cdot \\right\\rVert_2$) :\n",
    "\n",
    "\\begin{equation*}\\label{eq:limite_P}\n",
    "P^{\\tau} = {}^{t}O\\Delta^{\\tau}O \\longrightarrow {}^{t}O\\,\\mathrm{Diag}(1,0, \\ldots, 0)\\, O := P^{\\infty}\n",
    "\\end{equation*}\n",
    "lorsque $\\tau \\to +\\infty$ \n",
    "\n",
    "On en déduit \n",
    "\\begin{equation*}\n",
    "\\pi = P^{\\tau}(\\delta_{i,i_0})_{i \\in V} \\longrightarrow P^{\\infty}(\\delta_{i,i_0})_{i \\in V} = {}^{t}O \\,^{t}(O_{1i_0}, 0, \\ldots, 0) = O_{1i_0} {}^{t}O \\,^{t}(1, 0, \\ldots, 0) = O_{1i_0} O^{-1} \\,^{t}(1, 0, \\ldots, 0).\n",
    "\\end{equation*}\n",
    "Or $O^{-1} \\,^{t}(1, 0, \\ldots, 0)$ est le vecteur propre normalisé de $P$ de valeur propre $1$ (il y en a un seul car on a supposé que la valeur propre $1$ était simple). On vérifie facilement qu'il s'agit de $\\sqrt{N}^{-1} \\,{}^{t}(1, \\ldots, 1)$. Enfin, on a $O_{1i_0} = \\sqrt{N}^{-1}$ car c'est un coefficient de la première ligne de $O$, donc de la première colonne de $^{t}O = O^{-1}$.\n",
    "On conclut comme attendu que \n",
    "\\begin{equation}\\label{eq:pi_infini}\n",
    "\\lim_{\\tau \\to +\\infty} \\pi = N^{-1}\\,^{t}(1, \\ldots, 1).\n",
    "\\end{equation}"
   ]
  },
  {
   "cell_type": "markdown",
   "id": "dccb1749",
   "metadata": {},
   "source": [
    "**T3.** "
   ]
  }
 ],
 "metadata": {
  "author": "Estimation de la taille d’un graphe par marches aléatoires",
  "kernelspec": {
   "display_name": "Python 3",
   "language": "python",
   "name": "python3"
  },
  "language_info": {
   "codemirror_mode": {
    "name": "ipython",
    "version": 3
   },
   "file_extension": ".py",
   "mimetype": "text/x-python",
   "name": "python",
   "nbconvert_exporter": "python",
   "pygments_lexer": "ipython3",
   "version": "3.9.2"
  },
  "latex_envs": {
   "LaTeX_envs_menu_present": true,
   "autoclose": false,
   "autocomplete": true,
   "bibliofile": "biblio.bib",
   "cite_by": "apalike",
   "current_citInitial": 1,
   "eqLabelWithNumbers": true,
   "eqNumInitial": 1,
   "hotkeys": {
    "equation": "Ctrl-E",
    "itemize": "Ctrl-I"
   },
   "labels_anchors": false,
   "latex_user_defs": false,
   "report_style_numbering": false,
   "user_envs_cfg": false
  },
  "varInspector": {
   "cols": {
    "lenName": 16,
    "lenType": 16,
    "lenVar": 40
   },
   "kernels_config": {
    "python": {
     "delete_cmd_postfix": "",
     "delete_cmd_prefix": "del ",
     "library": "var_list.py",
     "varRefreshCmd": "print(var_dic_list())"
    },
    "r": {
     "delete_cmd_postfix": ") ",
     "delete_cmd_prefix": "rm(",
     "library": "var_list.r",
     "varRefreshCmd": "cat(var_dic_list()) "
    }
   },
   "types_to_exclude": [
    "module",
    "function",
    "builtin_function_or_method",
    "instance",
    "_Feature"
   ],
   "window_display": false
  }
 },
 "nbformat": 4,
 "nbformat_minor": 5
}
